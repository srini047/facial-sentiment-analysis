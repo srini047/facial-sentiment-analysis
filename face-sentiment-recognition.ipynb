{
 "cells": [
  {
   "cell_type": "code",
   "execution_count": 15,
   "metadata": {},
   "outputs": [],
   "source": [
    "import pandas as pd\n",
    "import numpy as np\n",
    "import keras\n",
    "from keras.models import Sequential\n",
    "from keras.layers.core import Flatten, Dense, Dropout\n",
    "from keras.layers.convolutional import Convolution2D, MaxPooling2D, ZeroPadding2D\n",
    "from keras.utils import plot_model\n",
    "from keras.models import Model\n",
    "from keras.layers import Input, Dense, Flatten, Dropout, BatchNormalization\n",
    "from keras.layers.convolutional import Conv2D\n",
    "from keras.layers.pooling import MaxPooling2D\n",
    "from keras.layers.merge import concatenate\n",
    "from keras.optimizers import Adam, SGD\n",
    "from keras.regularizers import l1, l2\n",
    "from matplotlib import pyplot as plt\n",
    "from sklearn.metrics import confusion_matrix\n",
    "from keras.utils import to_categorical\n",
    "import cv2"
   ]
  },
  {
   "cell_type": "code",
   "execution_count": 16,
   "metadata": {},
   "outputs": [
    {
     "name": "stdout",
     "output_type": "stream",
     "text": [
      "       emotion                                             pixels        Usage\n",
      "0            0  70 80 82 72 58 58 60 63 54 58 60 48 89 115 121...     Training\n",
      "1            0  151 150 147 155 148 133 111 140 170 174 182 15...     Training\n",
      "2            2  231 212 156 164 174 138 161 173 182 200 106 38...     Training\n",
      "3            4  24 32 36 30 32 23 19 20 30 41 21 22 32 34 21 1...     Training\n",
      "4            6  4 0 0 0 0 0 0 0 0 0 0 0 3 15 23 28 48 50 58 84...     Training\n",
      "...        ...                                                ...          ...\n",
      "35882        6  50 36 17 22 23 29 33 39 34 37 37 37 39 43 48 5...  PrivateTest\n",
      "35883        3  178 174 172 173 181 188 191 194 196 199 200 20...  PrivateTest\n",
      "35884        0  17 17 16 23 28 22 19 17 25 26 20 24 31 19 27 9...  PrivateTest\n",
      "35885        3  30 28 28 29 31 30 42 68 79 81 77 67 67 71 63 6...  PrivateTest\n",
      "35886        2  19 13 14 12 13 16 21 33 50 57 71 84 97 108 122...  PrivateTest\n",
      "\n",
      "[35887 rows x 3 columns]\n"
     ]
    }
   ],
   "source": [
    "emotion_data = pd.read_csv('./fer2013.csv')\n",
    "print(emotion_data)"
   ]
  },
  {
   "cell_type": "code",
   "execution_count": 17,
   "metadata": {},
   "outputs": [],
   "source": [
    "X_train = []\n",
    "y_train = []\n",
    "X_test = []\n",
    "y_test = []\n",
    "for index, row in emotion_data.iterrows():\n",
    "    k = row['pixels'].split(\" \")\n",
    "    if row['Usage'] == 'Training':\n",
    "        X_train.append(np.array(k))\n",
    "        y_train.append(row['emotion'])\n",
    "    elif row['Usage'] == 'PublicTest':\n",
    "        X_test.append(np.array(k))\n",
    "        y_test.append(row['emotion'])"
   ]
  },
  {
   "cell_type": "code",
   "execution_count": 18,
   "metadata": {},
   "outputs": [],
   "source": [
    "X_train = np.array(X_train, dtype = 'uint8')\n",
    "y_train = np.array(y_train, dtype = 'uint8')\n",
    "X_test = np.array(X_test, dtype = 'uint8')\n",
    "y_test = np.array(y_test, dtype = 'uint8')\n",
    "\n",
    "X_train = X_train.reshape(X_train.shape[0], 48, 48, 1)\n",
    "X_test = X_test.reshape(X_test.shape[0], 48, 48, 1)\n",
    "\n",
    "y_train= to_categorical(y_train, num_classes=7)\n",
    "y_test = to_categorical(y_test, num_classes=7)"
   ]
  },
  {
   "cell_type": "code",
   "execution_count": 19,
   "metadata": {},
   "outputs": [],
   "source": [
    "from keras.preprocessing.image import ImageDataGenerator \n",
    "datagen = ImageDataGenerator( \n",
    "    rescale=1./255,\n",
    "    rotation_range = 10,\n",
    "    horizontal_flip = True,\n",
    "    width_shift_range=0.1,\n",
    "    height_shift_range=0.1,\n",
    "    fill_mode = 'nearest')\n",
    "\n",
    "testgen = ImageDataGenerator(rescale=1./255)\n",
    "datagen.fit(X_train)\n",
    "\n",
    "batch_size = 64"
   ]
  },
  {
   "cell_type": "code",
   "execution_count": 20,
   "metadata": {},
   "outputs": [],
   "source": [
    "train_flow = datagen.flow(X_train, y_train, batch_size=batch_size) \n",
    "test_flow = testgen.flow(X_test, y_test, batch_size=batch_size)"
   ]
  },
  {
   "cell_type": "code",
   "execution_count": 21,
   "metadata": {},
   "outputs": [],
   "source": [
    "def FER_Model(input_shape=(48,48,1)):\n",
    "    # first input model\n",
    "    visible = Input(shape=input_shape, name='input')\n",
    "    num_classes = 7\n",
    "    #the 1-st block\n",
    "    conv1_1 = Conv2D(64, kernel_size=3, activation='relu', padding='same', name = 'conv1_1')(visible)\n",
    "    conv1_1 = BatchNormalization()(conv1_1)\n",
    "    conv1_2 = Conv2D(64, kernel_size=3, activation='relu', padding='same', name = 'conv1_2')(conv1_1)\n",
    "    conv1_2 = BatchNormalization()(conv1_2)\n",
    "    pool1_1 = MaxPooling2D(pool_size=(2,2), name = 'pool1_1')(conv1_2)\n",
    "    drop1_1 = Dropout(0.3, name = 'drop1_1')(pool1_1)#the 2-nd block\n",
    "    conv2_1 = Conv2D(128, kernel_size=3, activation='relu', padding='same', name = 'conv2_1')(drop1_1)\n",
    "    conv2_1 = BatchNormalization()(conv2_1)\n",
    "    conv2_2 = Conv2D(128, kernel_size=3, activation='relu', padding='same', name = 'conv2_2')(conv2_1)\n",
    "    conv2_2 = BatchNormalization()(conv2_2)\n",
    "    conv2_3 = Conv2D(128, kernel_size=3, activation='relu', padding='same', name = 'conv2_3')(conv2_2)\n",
    "    conv2_2 = BatchNormalization()(conv2_3)\n",
    "    pool2_1 = MaxPooling2D(pool_size=(2,2), name = 'pool2_1')(conv2_3)\n",
    "    drop2_1 = Dropout(0.3, name = 'drop2_1')(pool2_1)#the 3-rd block\n",
    "    conv3_1 = Conv2D(256, kernel_size=3, activation='relu', padding='same', name = 'conv3_1')(drop2_1)\n",
    "    conv3_1 = BatchNormalization()(conv3_1)\n",
    "    conv3_2 = Conv2D(256, kernel_size=3, activation='relu', padding='same', name = 'conv3_2')(conv3_1)\n",
    "    conv3_2 = BatchNormalization()(conv3_2)\n",
    "    conv3_3 = Conv2D(256, kernel_size=3, activation='relu', padding='same', name = 'conv3_3')(conv3_2)\n",
    "    conv3_3 = BatchNormalization()(conv3_3)\n",
    "    conv3_4 = Conv2D(256, kernel_size=3, activation='relu', padding='same', name = 'conv3_4')(conv3_3)\n",
    "    conv3_4 = BatchNormalization()(conv3_4)\n",
    "    pool3_1 = MaxPooling2D(pool_size=(2,2), name = 'pool3_1')(conv3_4)\n",
    "    drop3_1 = Dropout(0.3, name = 'drop3_1')(pool3_1)#the 4-th block\n",
    "    conv4_1 = Conv2D(256, kernel_size=3, activation='relu', padding='same', name = 'conv4_1')(drop3_1)\n",
    "    conv4_1 = BatchNormalization()(conv4_1)\n",
    "    conv4_2 = Conv2D(256, kernel_size=3, activation='relu', padding='same', name = 'conv4_2')(conv4_1)\n",
    "    conv4_2 = BatchNormalization()(conv4_2)\n",
    "    conv4_3 = Conv2D(256, kernel_size=3, activation='relu', padding='same', name = 'conv4_3')(conv4_2)\n",
    "    conv4_3 = BatchNormalization()(conv4_3)\n",
    "    conv4_4 = Conv2D(256, kernel_size=3, activation='relu', padding='same', name = 'conv4_4')(conv4_3)\n",
    "    conv4_4 = BatchNormalization()(conv4_4)\n",
    "    pool4_1 = MaxPooling2D(pool_size=(2,2), name = 'pool4_1')(conv4_4)\n",
    "    drop4_1 = Dropout(0.3, name = 'drop4_1')(pool4_1)\n",
    "    \n",
    "    #the 5-th block\n",
    "    conv5_1 = Conv2D(512, kernel_size=3, activation='relu', padding='same', name = 'conv5_1')(drop4_1)\n",
    "    conv5_1 = BatchNormalization()(conv5_1)\n",
    "    conv5_2 = Conv2D(512, kernel_size=3, activation='relu', padding='same', name = 'conv5_2')(conv5_1)\n",
    "    conv5_2 = BatchNormalization()(conv5_2)\n",
    "    conv5_3 = Conv2D(512, kernel_size=3, activation='relu', padding='same', name = 'conv5_3')(conv5_2)\n",
    "    conv5_3 = BatchNormalization()(conv5_3)\n",
    "    conv5_4 = Conv2D(512, kernel_size=3, activation='relu', padding='same', name = 'conv5_4')(conv5_3)\n",
    "    conv5_3 = BatchNormalization()(conv5_3)\n",
    "    pool5_1 = MaxPooling2D(pool_size=(2,2), name = 'pool5_1')(conv5_4)\n",
    "    drop5_1 = Dropout(0.3, name = 'drop5_1')(pool5_1)#Flatten and output\n",
    "    flatten = Flatten(name = 'flatten')(drop5_1)\n",
    "    ouput = Dense(num_classes, activation='softmax', name = 'output')(flatten)# create model \n",
    "    model = Model(inputs =visible, outputs = ouput)\n",
    "    # summary layers\n",
    "    print(model.summary())\n",
    "    \n",
    "    return model"
   ]
  },
  {
   "cell_type": "code",
   "execution_count": 22,
   "metadata": {},
   "outputs": [
    {
     "name": "stdout",
     "output_type": "stream",
     "text": [
      "Model: \"model_1\"\n",
      "_________________________________________________________________\n",
      "Layer (type)                 Output Shape              Param #   \n",
      "=================================================================\n",
      "input (InputLayer)           [(None, 48, 48, 1)]       0         \n",
      "_________________________________________________________________\n",
      "conv1_1 (Conv2D)             (None, 48, 48, 64)        640       \n",
      "_________________________________________________________________\n",
      "batch_normalization_17 (Batc (None, 48, 48, 64)        256       \n",
      "_________________________________________________________________\n",
      "conv1_2 (Conv2D)             (None, 48, 48, 64)        36928     \n",
      "_________________________________________________________________\n",
      "batch_normalization_18 (Batc (None, 48, 48, 64)        256       \n",
      "_________________________________________________________________\n",
      "pool1_1 (MaxPooling2D)       (None, 24, 24, 64)        0         \n",
      "_________________________________________________________________\n",
      "drop1_1 (Dropout)            (None, 24, 24, 64)        0         \n",
      "_________________________________________________________________\n",
      "conv2_1 (Conv2D)             (None, 24, 24, 128)       73856     \n",
      "_________________________________________________________________\n",
      "batch_normalization_19 (Batc (None, 24, 24, 128)       512       \n",
      "_________________________________________________________________\n",
      "conv2_2 (Conv2D)             (None, 24, 24, 128)       147584    \n",
      "_________________________________________________________________\n",
      "batch_normalization_20 (Batc (None, 24, 24, 128)       512       \n",
      "_________________________________________________________________\n",
      "conv2_3 (Conv2D)             (None, 24, 24, 128)       147584    \n",
      "_________________________________________________________________\n",
      "pool2_1 (MaxPooling2D)       (None, 12, 12, 128)       0         \n",
      "_________________________________________________________________\n",
      "drop2_1 (Dropout)            (None, 12, 12, 128)       0         \n",
      "_________________________________________________________________\n",
      "conv3_1 (Conv2D)             (None, 12, 12, 256)       295168    \n",
      "_________________________________________________________________\n",
      "batch_normalization_22 (Batc (None, 12, 12, 256)       1024      \n",
      "_________________________________________________________________\n",
      "conv3_2 (Conv2D)             (None, 12, 12, 256)       590080    \n",
      "_________________________________________________________________\n",
      "batch_normalization_23 (Batc (None, 12, 12, 256)       1024      \n",
      "_________________________________________________________________\n",
      "conv3_3 (Conv2D)             (None, 12, 12, 256)       590080    \n",
      "_________________________________________________________________\n",
      "batch_normalization_24 (Batc (None, 12, 12, 256)       1024      \n",
      "_________________________________________________________________\n",
      "conv3_4 (Conv2D)             (None, 12, 12, 256)       590080    \n",
      "_________________________________________________________________\n",
      "batch_normalization_25 (Batc (None, 12, 12, 256)       1024      \n",
      "_________________________________________________________________\n",
      "pool3_1 (MaxPooling2D)       (None, 6, 6, 256)         0         \n",
      "_________________________________________________________________\n",
      "drop3_1 (Dropout)            (None, 6, 6, 256)         0         \n",
      "_________________________________________________________________\n",
      "conv4_1 (Conv2D)             (None, 6, 6, 256)         590080    \n",
      "_________________________________________________________________\n",
      "batch_normalization_26 (Batc (None, 6, 6, 256)         1024      \n",
      "_________________________________________________________________\n",
      "conv4_2 (Conv2D)             (None, 6, 6, 256)         590080    \n",
      "_________________________________________________________________\n",
      "batch_normalization_27 (Batc (None, 6, 6, 256)         1024      \n",
      "_________________________________________________________________\n",
      "conv4_3 (Conv2D)             (None, 6, 6, 256)         590080    \n",
      "_________________________________________________________________\n",
      "batch_normalization_28 (Batc (None, 6, 6, 256)         1024      \n",
      "_________________________________________________________________\n",
      "conv4_4 (Conv2D)             (None, 6, 6, 256)         590080    \n",
      "_________________________________________________________________\n",
      "batch_normalization_29 (Batc (None, 6, 6, 256)         1024      \n",
      "_________________________________________________________________\n",
      "pool4_1 (MaxPooling2D)       (None, 3, 3, 256)         0         \n",
      "_________________________________________________________________\n",
      "drop4_1 (Dropout)            (None, 3, 3, 256)         0         \n",
      "_________________________________________________________________\n",
      "conv5_1 (Conv2D)             (None, 3, 3, 512)         1180160   \n",
      "_________________________________________________________________\n",
      "batch_normalization_30 (Batc (None, 3, 3, 512)         2048      \n",
      "_________________________________________________________________\n",
      "conv5_2 (Conv2D)             (None, 3, 3, 512)         2359808   \n",
      "_________________________________________________________________\n",
      "batch_normalization_31 (Batc (None, 3, 3, 512)         2048      \n",
      "_________________________________________________________________\n",
      "conv5_3 (Conv2D)             (None, 3, 3, 512)         2359808   \n",
      "_________________________________________________________________\n",
      "batch_normalization_32 (Batc (None, 3, 3, 512)         2048      \n",
      "_________________________________________________________________\n",
      "conv5_4 (Conv2D)             (None, 3, 3, 512)         2359808   \n",
      "_________________________________________________________________\n",
      "pool5_1 (MaxPooling2D)       (None, 1, 1, 512)         0         \n",
      "_________________________________________________________________\n",
      "drop5_1 (Dropout)            (None, 1, 1, 512)         0         \n",
      "_________________________________________________________________\n",
      "flatten (Flatten)            (None, 512)               0         \n",
      "_________________________________________________________________\n",
      "output (Dense)               (None, 7)                 3591      \n",
      "=================================================================\n",
      "Total params: 13,111,367\n",
      "Trainable params: 13,103,431\n",
      "Non-trainable params: 7,936\n",
      "_________________________________________________________________\n",
      "None\n"
     ]
    }
   ],
   "source": [
    "model = FER_Model()\n",
    "opt = Adam(lr=0.0001, decay=1e-6)\n",
    "model.compile(loss='categorical_crossentropy', optimizer=opt, metrics=['accuracy'])"
   ]
  },
  {
   "cell_type": "code",
   "execution_count": 23,
   "metadata": {},
   "outputs": [
    {
     "name": "stderr",
     "output_type": "stream",
     "text": [
      "c:\\Users\\Sriniketh J\\anaconda3\\lib\\site-packages\\tensorflow\\python\\keras\\engine\\training.py:1844: UserWarning: `Model.fit_generator` is deprecated and will be removed in a future version. Please use `Model.fit`, which supports generators.\n",
      "  warnings.warn('`Model.fit_generator` is deprecated and '\n"
     ]
    },
    {
     "name": "stdout",
     "output_type": "stream",
     "text": [
      "Epoch 1/10\n",
      "448/448 [==============================] - 1679s 4s/step - loss: 2.2078 - accuracy: 0.1993 - val_loss: 1.9764 - val_accuracy: 0.2391\n",
      "Epoch 2/10\n",
      "448/448 [==============================] - 2042s 5s/step - loss: 1.8009 - accuracy: 0.2494 - val_loss: 1.7949 - val_accuracy: 0.2413\n",
      "Epoch 3/10\n",
      "448/448 [==============================] - 2130s 5s/step - loss: 1.7670 - accuracy: 0.2677 - val_loss: 1.7515 - val_accuracy: 0.2725\n",
      "Epoch 4/10\n",
      "448/448 [==============================] - 2777s 6s/step - loss: 1.7252 - accuracy: 0.2995 - val_loss: 1.7301 - val_accuracy: 0.3305\n",
      "Epoch 5/10\n",
      "448/448 [==============================] - 7946s 18s/step - loss: 1.6679 - accuracy: 0.3345 - val_loss: 1.7519 - val_accuracy: 0.3592\n",
      "Epoch 6/10\n",
      "448/448 [==============================] - 4901s 11s/step - loss: 1.6017 - accuracy: 0.3660 - val_loss: 1.5543 - val_accuracy: 0.4152\n",
      "Epoch 7/10\n",
      "448/448 [==============================] - 2267s 5s/step - loss: 1.5241 - accuracy: 0.4098 - val_loss: 1.4979 - val_accuracy: 0.4302\n",
      "Epoch 8/10\n",
      "448/448 [==============================] - 11487s 26s/step - loss: 1.4672 - accuracy: 0.4273 - val_loss: 1.4862 - val_accuracy: 0.4661\n",
      "Epoch 9/10\n",
      "448/448 [==============================] - 5171s 12s/step - loss: 1.3938 - accuracy: 0.4662 - val_loss: 1.3753 - val_accuracy: 0.4826\n",
      "Epoch 10/10\n",
      "448/448 [==============================] - 3184s 7s/step - loss: 1.3250 - accuracy: 0.4958 - val_loss: 1.2415 - val_accuracy: 0.5272\n"
     ]
    }
   ],
   "source": [
    "num_epochs = 10\n",
    "\n",
    "history = model.fit_generator(train_flow, \n",
    "                    steps_per_epoch=len(X_train) / batch_size, \n",
    "                    epochs=num_epochs,  \n",
    "                    verbose=1,  \n",
    "                    validation_data=test_flow,\n",
    "                    validation_steps=len(X_test) / batch_size)"
   ]
  },
  {
   "cell_type": "code",
   "execution_count": 24,
   "metadata": {},
   "outputs": [
    {
     "name": "stdout",
     "output_type": "stream",
     "text": [
      "Saved model to disk\n"
     ]
    }
   ],
   "source": [
    "model_json = model.to_json()\n",
    "with open(\"model.json\", \"w\") as json_file:\n",
    "    json_file.write(model_json)\n",
    "model.save_weights(\"model.h5\")\n",
    "print(\"Saved model to disk\")"
   ]
  },
  {
   "cell_type": "code",
   "execution_count": null,
   "metadata": {},
   "outputs": [],
   "source": []
  }
 ],
 "metadata": {
  "kernelspec": {
   "display_name": "Python 3.8.12 ('base')",
   "language": "python",
   "name": "python3"
  },
  "language_info": {
   "codemirror_mode": {
    "name": "ipython",
    "version": 3
   },
   "file_extension": ".py",
   "mimetype": "text/x-python",
   "name": "python",
   "nbconvert_exporter": "python",
   "pygments_lexer": "ipython3",
   "version": "3.8.12"
  },
  "orig_nbformat": 4,
  "vscode": {
   "interpreter": {
    "hash": "1a98dfdbf5f4dedf5e8d8f4bfd1359a63aa6179b015a1f011f140876f85c4cf3"
   }
  }
 },
 "nbformat": 4,
 "nbformat_minor": 2
}
